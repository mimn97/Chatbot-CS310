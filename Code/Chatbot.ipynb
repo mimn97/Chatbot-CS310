{
 "cells": [
  {
   "cell_type": "code",
   "execution_count": 1,
   "metadata": {},
   "outputs": [],
   "source": [
    "import nltk\n",
    "import ssl\n",
    "import numpy as np\n",
    "import random\n",
    "import string\n",
    "from sklearn.feature_extraction.text import TfidfVectorizer\n",
    "from sklearn.metrics.pairwise import cosine_similarity\n",
    "from textblob import TextBlob\n",
    "import pandas as pd"
   ]
  },
  {
   "cell_type": "code",
   "execution_count": 2,
   "metadata": {},
   "outputs": [],
   "source": [
    "try:\n",
    "    _create_unverified_https_context = ssl._create_unverified_context\n",
    "except AttributeError:\n",
    "    pass\n",
    "else:\n",
    "    ssl._create_default_https_context = _create_unverified_https_context"
   ]
  },
  {
   "cell_type": "code",
   "execution_count": 3,
   "metadata": {},
   "outputs": [],
   "source": [
    "f = open('corpus.txt','r')\n",
    "text = f.read()\n",
    "text = text.lower()\n",
    "sent_tokens = nltk.sent_tokenize(text)\n",
    "word_tokens = nltk.word_tokenize(text)"
   ]
  },
  {
   "cell_type": "code",
   "execution_count": 4,
   "metadata": {},
   "outputs": [],
   "source": [
    "def LemTokens(tokens):\n",
    "    return [lemmatizer.lemmatize(token) for token in tokens]\n",
    "remove_punct_dict = dict((ord(punct), None) for punct in string.punctuation)\n",
    "lemmatizer = nltk.stem.WordNetLemmatizer()"
   ]
  },
  {
   "cell_type": "code",
   "execution_count": 5,
   "metadata": {},
   "outputs": [],
   "source": [
    "def LemNormalize(text):\n",
    "    return LemTokens(nltk.word_tokenize(text.lower().translate(remove_punct_dict)))"
   ]
  },
  {
   "cell_type": "code",
   "execution_count": 6,
   "metadata": {},
   "outputs": [],
   "source": [
    "user_greetings = [\"hi\", \"hello\", \"good morning\", \"hey\", \"what's up\"]\n",
    "bot_greetings = [\"Hello, how may I be of assistance?\"]\n",
    "user_gratitude = [\"thank you\", \"thanks\", \"that was helpful\"]\n",
    "bot_gratitude = [\"You're welcome! Is there anything else you need?\", \"Happy to help! Are there other questions that I could help with?\"]\n",
    "bot_exit_text = [\"Thank you for using my services. Have a great day!\", \"Hope I was helpful. See you later :)\", \"Bye!\"]"
   ]
  },
  {
   "cell_type": "code",
   "execution_count": 7,
   "metadata": {},
   "outputs": [],
   "source": [
    "def respond(input_text):\n",
    "    bot_message = \"\"\n",
    "    sent_tokens.append(input_text)\n",
    "    TfidfVec = TfidfVectorizer(tokenizer=LemNormalize, stop_words='english')\n",
    "    tfidf = TfidfVec.fit_transform(sent_tokens)\n",
    "    vals = cosine_similarity(tfidf[-1], tfidf)\n",
    "    idx=vals.argsort()[0][-2]\n",
    "    flat = vals.flatten()\n",
    "    flat.sort()\n",
    "    req_tfidf = flat[-2]\n",
    "    if(req_tfidf==0):\n",
    "        bot_message = \"Apologies, I cannot understand your question. Please rephrase your question and try again.\"\n",
    "    else:\n",
    "        bot_message = sent_tokens[idx]\n",
    "    return bot_message"
   ]
  },
  {
   "cell_type": "code",
   "execution_count": 8,
   "metadata": {},
   "outputs": [],
   "source": [
    "def extract_sentiment(text):\n",
    "    processed_text = TextBlob(text)\n",
    "    sentiment = processed_text.sentiment\n",
    "    if sentiment.polarity < 0:\n",
    "        return \"negative\"\n",
    "    elif sentiment.polarity > 0:\n",
    "        return \"positive\"\n",
    "    else:\n",
    "        return \"neutral\"\n",
    "    \n",
    "def get_language(text):\n",
    "    processed_text = TextBlob(text)\n",
    "    return processed_text.detect_language()"
   ]
  },
  {
   "cell_type": "code",
   "execution_count": null,
   "metadata": {},
   "outputs": [],
   "source": [
    "languages = {\"en\":\"English\", \"fr\":\"France\", \"es:Spanish\", \"la\":\"Latin\"}"
   ]
  },
  {
   "cell_type": "code",
   "execution_count": 9,
   "metadata": {},
   "outputs": [
    {
     "name": "stdout",
     "output_type": "stream",
     "text": [
      "Hi there! You are now interacting with a chatbot. I can answer any questions you may have about machine intelligence. Type in your question. If want to exit, type bye.\n",
      "Enter a number based on what you want to do: \n",
      "1. Chat with the chatbot \n",
      "2. Analyze the sentiment and detect the language of the text\n",
      "\n",
      "2\n",
      "I enjoy drinking coffee\n",
      "I think your response had the following sentiment:  positive\n",
      "Your response is in the following language:  en\n",
      "Bon appetite\n",
      "I think your response had the following sentiment:  neutral\n",
      "Your response is in the following language:  fr\n",
      "Hola\n",
      "I think your response had the following sentiment:  neutral\n",
      "Your response is in the following language:  es\n",
      "quid pro quid\n",
      "I think your response had the following sentiment:  neutral\n",
      "Your response is in the following language:  la\n",
      "chitti navvu\n",
      "I think your response had the following sentiment:  neutral\n",
      "Your response is in the following language:  te\n",
      "I like going to the beach\n",
      "I think your response had the following sentiment:  neutral\n",
      "Your response is in the following language:  en\n",
      "I love going to the beach\n",
      "I think your response had the following sentiment:  positive\n",
      "Your response is in the following language:  en\n",
      "This is amazing\n",
      "I think your response had the following sentiment:  positive\n",
      "Your response is in the following language:  en\n",
      "That's fantastic\n",
      "I think your response had the following sentiment:  positive\n",
      "Your response is in the following language:  en\n",
      "it was annoying\n",
      "I think your response had the following sentiment:  negative\n",
      "Your response is in the following language:  en\n",
      "I was not happy\n",
      "I think your response had the following sentiment:  negative\n",
      "Your response is in the following language:  en\n",
      "I did not enjoy that\n",
      "I think your response had the following sentiment:  negative\n",
      "Your response is in the following language:  en\n",
      "this is nice\n",
      "I think your response had the following sentiment:  positive\n",
      "Your response is in the following language:  en\n",
      "that was unpleasant\n",
      "I think your response had the following sentiment:  negative\n",
      "Your response is in the following language:  en\n",
      "i am lost\n",
      "I think your response had the following sentiment:  neutral\n",
      "Your response is in the following language:  en\n",
      "kopamga undi\n",
      "I think your response had the following sentiment:  neutral\n",
      "Your response is in the following language:  te\n",
      "Not impressed with the show\n",
      "I think your response had the following sentiment:  negative\n",
      "Your response is in the following language:  en\n",
      "I had a great time\n",
      "I think your response had the following sentiment:  positive\n",
      "Your response is in the following language:  en\n",
      "I don't love chocolate\n",
      "I think your response had the following sentiment:  positive\n",
      "Your response is in the following language:  en\n",
      "I hate chocolate\n",
      "I think your response had the following sentiment:  negative\n",
      "Your response is in the following language:  en\n",
      "I don't like chocolate\n",
      "I think your response had the following sentiment:  neutral\n",
      "Your response is in the following language:  en\n",
      "I do not hate chocolate\n",
      "I think your response had the following sentiment:  positive\n",
      "Your response is in the following language:  en\n",
      "I love going to the beach\n",
      "I think your response had the following sentiment:  positive\n",
      "Your response is in the following language:  en\n"
     ]
    },
    {
     "ename": "KeyboardInterrupt",
     "evalue": "Interrupted by user",
     "output_type": "error",
     "traceback": [
      "\u001b[0;31m---------------------------------------------------------------------------\u001b[0m",
      "\u001b[0;31mKeyboardInterrupt\u001b[0m                         Traceback (most recent call last)",
      "\u001b[0;32m<ipython-input-9-41a2b7d0e6df>\u001b[0m in \u001b[0;36m<module>\u001b[0;34m\u001b[0m\n\u001b[1;32m      5\u001b[0m \u001b[0mexit_status\u001b[0m \u001b[0;34m=\u001b[0m \u001b[0;32mFalse\u001b[0m\u001b[0;34m\u001b[0m\u001b[0;34m\u001b[0m\u001b[0m\n\u001b[1;32m      6\u001b[0m \u001b[0;32mwhile\u001b[0m \u001b[0mexit_status\u001b[0m \u001b[0;32mis\u001b[0m \u001b[0;32mFalse\u001b[0m\u001b[0;34m:\u001b[0m\u001b[0;34m\u001b[0m\u001b[0;34m\u001b[0m\u001b[0m\n\u001b[0;32m----> 7\u001b[0;31m     \u001b[0minput_text\u001b[0m \u001b[0;34m=\u001b[0m \u001b[0minput\u001b[0m\u001b[0;34m(\u001b[0m\u001b[0;34m)\u001b[0m\u001b[0;34m\u001b[0m\u001b[0;34m\u001b[0m\u001b[0m\n\u001b[0m\u001b[1;32m      8\u001b[0m     \u001b[0minput_text\u001b[0m \u001b[0;34m=\u001b[0m \u001b[0minput_text\u001b[0m\u001b[0;34m.\u001b[0m\u001b[0mlower\u001b[0m\u001b[0;34m(\u001b[0m\u001b[0;34m)\u001b[0m\u001b[0;34m\u001b[0m\u001b[0;34m\u001b[0m\u001b[0m\n\u001b[1;32m      9\u001b[0m     \u001b[0;32mif\u001b[0m \u001b[0minput_text\u001b[0m \u001b[0;34m!=\u001b[0m \u001b[0;34m'bye'\u001b[0m\u001b[0;34m:\u001b[0m\u001b[0;34m\u001b[0m\u001b[0;34m\u001b[0m\u001b[0m\n",
      "\u001b[0;32m/opt/anaconda3/lib/python3.8/site-packages/ipykernel/kernelbase.py\u001b[0m in \u001b[0;36mraw_input\u001b[0;34m(self, prompt)\u001b[0m\n\u001b[1;32m    858\u001b[0m                 \u001b[0;34m\"raw_input was called, but this frontend does not support input requests.\"\u001b[0m\u001b[0;34m\u001b[0m\u001b[0;34m\u001b[0m\u001b[0m\n\u001b[1;32m    859\u001b[0m             )\n\u001b[0;32m--> 860\u001b[0;31m         return self._input_request(str(prompt),\n\u001b[0m\u001b[1;32m    861\u001b[0m             \u001b[0mself\u001b[0m\u001b[0;34m.\u001b[0m\u001b[0m_parent_ident\u001b[0m\u001b[0;34m,\u001b[0m\u001b[0;34m\u001b[0m\u001b[0;34m\u001b[0m\u001b[0m\n\u001b[1;32m    862\u001b[0m             \u001b[0mself\u001b[0m\u001b[0;34m.\u001b[0m\u001b[0m_parent_header\u001b[0m\u001b[0;34m,\u001b[0m\u001b[0;34m\u001b[0m\u001b[0;34m\u001b[0m\u001b[0m\n",
      "\u001b[0;32m/opt/anaconda3/lib/python3.8/site-packages/ipykernel/kernelbase.py\u001b[0m in \u001b[0;36m_input_request\u001b[0;34m(self, prompt, ident, parent, password)\u001b[0m\n\u001b[1;32m    902\u001b[0m             \u001b[0;32mexcept\u001b[0m \u001b[0mKeyboardInterrupt\u001b[0m\u001b[0;34m:\u001b[0m\u001b[0;34m\u001b[0m\u001b[0;34m\u001b[0m\u001b[0m\n\u001b[1;32m    903\u001b[0m                 \u001b[0;31m# re-raise KeyboardInterrupt, to truncate traceback\u001b[0m\u001b[0;34m\u001b[0m\u001b[0;34m\u001b[0m\u001b[0;34m\u001b[0m\u001b[0m\n\u001b[0;32m--> 904\u001b[0;31m                 \u001b[0;32mraise\u001b[0m \u001b[0mKeyboardInterrupt\u001b[0m\u001b[0;34m(\u001b[0m\u001b[0;34m\"Interrupted by user\"\u001b[0m\u001b[0;34m)\u001b[0m \u001b[0;32mfrom\u001b[0m \u001b[0;32mNone\u001b[0m\u001b[0;34m\u001b[0m\u001b[0;34m\u001b[0m\u001b[0m\n\u001b[0m\u001b[1;32m    905\u001b[0m             \u001b[0;32mexcept\u001b[0m \u001b[0mException\u001b[0m \u001b[0;32mas\u001b[0m \u001b[0me\u001b[0m\u001b[0;34m:\u001b[0m\u001b[0;34m\u001b[0m\u001b[0;34m\u001b[0m\u001b[0m\n\u001b[1;32m    906\u001b[0m                 \u001b[0mself\u001b[0m\u001b[0;34m.\u001b[0m\u001b[0mlog\u001b[0m\u001b[0;34m.\u001b[0m\u001b[0mwarning\u001b[0m\u001b[0;34m(\u001b[0m\u001b[0;34m\"Invalid Message:\"\u001b[0m\u001b[0;34m,\u001b[0m \u001b[0mexc_info\u001b[0m\u001b[0;34m=\u001b[0m\u001b[0;32mTrue\u001b[0m\u001b[0;34m)\u001b[0m\u001b[0;34m\u001b[0m\u001b[0;34m\u001b[0m\u001b[0m\n",
      "\u001b[0;31mKeyboardInterrupt\u001b[0m: Interrupted by user"
     ]
    }
   ],
   "source": [
    "print(\"Hi there! You are now interacting with a chatbot.\")\n",
    "print(\"Enter a number based on what you want to do: \\n1. Chat with the bot \\n2. Analyze the sentiment and detect the language of the text\\n\")\n",
    "choice = int(input())\n",
    "\n",
    "if choice == 1:\n",
    "    print(\"I can answer any questions you may have about machine intelligence. Type in your question. If want to exit, type bye.\\n\")\n",
    "    \n",
    "exit_status = False\n",
    "while exit_status is False:\n",
    "    input_text = input()\n",
    "    input_text = input_text.lower()\n",
    "    if input_text != 'bye':\n",
    "        if choice == 1:\n",
    "            if input_text in user_greetings:\n",
    "                print(random.choice(bot_greetings))\n",
    "            else:\n",
    "                if input_text in user_gratitude:\n",
    "                    print(random.choice(bot_gratitude))\n",
    "                else:\n",
    "                    print(respond(input_text))\n",
    "                    sent_tokens.remove(input_text)\n",
    "        elif choice == 2:\n",
    "            print(\"Detected Language: \", languages[get_language(input_text)])\n",
    "            if get_language(input_text) == \"en\":\n",
    "                print(\"Detected Sentiment: \", extract_sentiment(input_text))\n",
    "            else:\n",
    "                print(\"Sentiment can only be detected for text in English\")\n",
    "        else:\n",
    "            print(\"Invalid choice!\\nOnly 1 and 2 are valid choices \\nPlese try running the program again.\")\n",
    "            exit_status = True\n",
    "    else:\n",
    "        exit_status = True\n",
    "        print(random.choice(bot_exit_text))"
   ]
  },
  {
   "cell_type": "code",
   "execution_count": null,
   "metadata": {},
   "outputs": [],
   "source": []
  },
  {
   "cell_type": "code",
   "execution_count": null,
   "metadata": {},
   "outputs": [],
   "source": []
  }
 ],
 "metadata": {
  "kernelspec": {
   "display_name": "Python 3",
   "language": "python",
   "name": "python3"
  },
  "language_info": {
   "codemirror_mode": {
    "name": "ipython",
    "version": 3
   },
   "file_extension": ".py",
   "mimetype": "text/x-python",
   "name": "python",
   "nbconvert_exporter": "python",
   "pygments_lexer": "ipython3",
   "version": "3.8.5"
  }
 },
 "nbformat": 4,
 "nbformat_minor": 4
}
